{
 "cells": [
  {
   "cell_type": "code",
   "execution_count": 2,
   "id": "4e369397",
   "metadata": {},
   "outputs": [],
   "source": [
    "class triangle:\n",
    "    def __init__(self, a , b, c):\n",
    "        self.a =a    \n",
    "        self.b =b\n",
    "        self.c =c\n",
    "    def area_of_tri(self):\n",
    "        return (self.a + self.b + self.c)/2\n",
    "        "
   ]
  },
  {
   "cell_type": "code",
   "execution_count": 15,
   "id": "dc056727",
   "metadata": {},
   "outputs": [
    {
     "name": "stdout",
     "output_type": "stream",
     "text": [
      "15.0\n",
      "43.30127018922193\n"
     ]
    }
   ],
   "source": [
    "ar = triangle(10,10,10)\n",
    "s = (ar.a+ar.b+ar.c)/2\n",
    "print(s)\n",
    "area = (s*(s-ar.a)*(s-ar.b)*(s-ar.c)) ** 0.5\n",
    "print(area) "
   ]
  },
  {
   "cell_type": "code",
   "execution_count": 172,
   "id": "a144008b",
   "metadata": {},
   "outputs": [],
   "source": [
    "class filter_long_words:\n",
    "      def __init__(self, string_msg, n):\n",
    "            self.string_msg = string_msg\n",
    "            self.n   = n\n",
    "            \n",
    "                 \n",
    "      def  filter(self):\n",
    "           x  = 0\n",
    "           r  = 0           \n",
    "           for i in self.string_msg:\n",
    "               if i != \" \" and x < self.n:                \n",
    "                   r = r +1\n",
    "                else:\n",
    "                    x = x + 1 \n",
    "                    if (x >= self.n):\n",
    "                      for j in i:\n",
    "                         print(j, end=\"\")\n",
    "                    \n",
    "                        "
   ]
  },
  {
   "cell_type": "code",
   "execution_count": 171,
   "id": "dbe04542",
   "metadata": {},
   "outputs": [
    {
     "data": {
      "text/plain": [
       "'Thanks to god for trying out something new'"
      ]
     },
     "execution_count": 171,
     "metadata": {},
     "output_type": "execute_result"
    }
   ],
   "source": [
    "y = filter_long_words(\"Thanks to god for trying out something new\", 3)\n",
    "y.string_msg\n",
    "\n"
   ]
  },
  {
   "cell_type": "code",
   "execution_count": 174,
   "id": "3b2c5436",
   "metadata": {},
   "outputs": [
    {
     "name": "stdout",
     "output_type": "stream",
     "text": [
      " for trying out something new"
     ]
    }
   ],
   "source": [
    "y = filter_long_words(\"Thanks to god for trying out something new\", 3)\n",
    "y.filter()"
   ]
  },
  {
   "cell_type": "code",
   "execution_count": 192,
   "id": "d4808c35",
   "metadata": {},
   "outputs": [],
   "source": [
    "class vowel:\n",
    "      def __init__(self, text_check):\n",
    "            self.text_check = text_check\n",
    "     \n",
    "      def vowel_check(self):\n",
    "            if ((self.text_check) == 'a' or 'e' or 'I' or 'o' or 'u'):\n",
    "              print(\"The given character is a vowel\" )\n",
    "            else: \n",
    "              print(\"The given character is not a vowel\" )\n",
    "              \n",
    "           "
   ]
  },
  {
   "cell_type": "code",
   "execution_count": 194,
   "id": "b1b3809b",
   "metadata": {},
   "outputs": [
    {
     "name": "stdout",
     "output_type": "stream",
     "text": [
      "The given character is a vowel\n"
     ]
    }
   ],
   "source": [
    "y = vowel(\"b\")\n",
    "y.vowel_check()"
   ]
  },
  {
   "cell_type": "code",
   "execution_count": 239,
   "id": "c256c2c4",
   "metadata": {},
   "outputs": [],
   "source": [
    "class map_string_to_numbers:\n",
    "      def __init__(self, listA):\n",
    "            self.listA = listA\n",
    "     \n",
    "      def map_string(self):\n",
    "          x = 0\n",
    "          listB = []            \n",
    "          for i in range(len(self.listA)): \n",
    "              listB.append(len(self.listA[i]))\n",
    "                \n",
    "          print (\"List of wordlength:\"+str(listB))\n",
    "             \n",
    "            \n",
    "            "
   ]
  },
  {
   "cell_type": "code",
   "execution_count": null,
   "id": "b8e9f47f",
   "metadata": {},
   "outputs": [],
   "source": []
  },
  {
   "cell_type": "code",
   "execution_count": 241,
   "id": "b132e647",
   "metadata": {},
   "outputs": [
    {
     "name": "stdout",
     "output_type": "stream",
     "text": [
      "List of wordlength:[5, 6, 6, 9, 10]\n"
     ]
    }
   ],
   "source": [
    "list = [\"apple\", \"banana\", \"cherry\", \"pineapple\", \"strawberry\"]\n",
    "\n",
    "y = map_string_to_numbers(list)\n",
    "y.map_string()\n"
   ]
  },
  {
   "cell_type": "code",
   "execution_count": 236,
   "id": "5d18ef89",
   "metadata": {},
   "outputs": [
    {
     "name": "stdout",
     "output_type": "stream",
     "text": [
      "List of words:['wordOne', 'wordTwo', 'wordThree', 'wordFour', 'wordFive']\n",
      "List of wordlength:[7, 7, 9, 8, 8]\n"
     ]
    }
   ],
   "source": [
    "listOfWords = ['wordOne','wordTwo','wordThree','wordFour','wordFive']\n",
    " \n",
    "listOfInts = []\n",
    " \n",
    "for i in range(len(listOfWords)):\n",
    "    listOfInts.append(len(listOfWords[i]))\n",
    " \n",
    "print (\"List of words:\"+str(listOfWords))    \n",
    "print (\"List of wordlength:\"+str(listOfInts))"
   ]
  },
  {
   "cell_type": "code",
   "execution_count": null,
   "id": "59423d9d",
   "metadata": {},
   "outputs": [],
   "source": []
  }
 ],
 "metadata": {
  "kernelspec": {
   "display_name": "Python 3",
   "language": "python",
   "name": "python3"
  },
  "language_info": {
   "codemirror_mode": {
    "name": "ipython",
    "version": 3
   },
   "file_extension": ".py",
   "mimetype": "text/x-python",
   "name": "python",
   "nbconvert_exporter": "python",
   "pygments_lexer": "ipython3",
   "version": "3.8.8"
  }
 },
 "nbformat": 4,
 "nbformat_minor": 5
}
