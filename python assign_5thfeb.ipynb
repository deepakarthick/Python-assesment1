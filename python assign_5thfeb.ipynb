{
 "cells": [
  {
   "cell_type": "code",
   "execution_count": null,
   "id": "072194f1",
   "metadata": {},
   "outputs": [],
   "source": []
  },
  {
   "cell_type": "markdown",
   "id": "0d6e5139",
   "metadata": {},
   "source": [
    "\n",
    " for i in range(2000, 3200):\n",
    "     if i%7 ==0 and i%5 !=0:\n",
    "       list.append(i)\n",
    "       list1 = list.copy();\n",
    "print(list)       "
   ]
  },
  {
   "cell_type": "markdown",
   "id": "0e83d8e0",
   "metadata": {},
   "source": [
    "\n",
    "\n",
    "x=str(input(\"enter your first name\\n\"))\n",
    "y=str(input(\"enter your last name\\n\"))\n",
    "print (x[::-1], end=\"  \")\n",
    "print (y[::-1])\n",
    "\n"
   ]
  },
  {
   "cell_type": "markdown",
   "id": "d02e73f2",
   "metadata": {},
   "source": [
    "# To calculate volume of sphere\n",
    "\n",
    "d = 12\n",
    "r = d/2\n",
    "print(r)"
   ]
  },
  {
   "cell_type": "code",
   "execution_count": 93,
   "id": "78fa4b2d",
   "metadata": {},
   "outputs": [
    {
     "name": "stdout",
     "output_type": "stream",
     "text": [
      "6.0\n"
     ]
    }
   ],
   "source": [
    "d = 12\n",
    "r = d/2\n",
    "print(r)"
   ]
  },
  {
   "cell_type": "code",
   "execution_count": 102,
   "id": "839da412",
   "metadata": {},
   "outputs": [
    {
     "ename": "SyntaxError",
     "evalue": "invalid character in identifier (<ipython-input-102-cc5690124e62>, line 5)",
     "output_type": "error",
     "traceback": [
      "\u001b[1;36m  File \u001b[1;32m\"<ipython-input-102-cc5690124e62>\"\u001b[1;36m, line \u001b[1;32m5\u001b[0m\n\u001b[1;33m    print(\"volume  of sphere :\" , v + cm³)\u001b[0m\n\u001b[1;37m                                        ^\u001b[0m\n\u001b[1;31mSyntaxError\u001b[0m\u001b[1;31m:\u001b[0m invalid character in identifier\n"
     ]
    }
   ],
   "source": [
    "#V=4/3 * π * r \n",
    "import math\n",
    "\n",
    "v = 4/3 *  math.pi * r\n",
    "print(\"volume  of sphere :\" , v)\n"
   ]
  },
  {
   "cell_type": "code",
   "execution_count": null,
   "id": "7b14ff43",
   "metadata": {},
   "outputs": [],
   "source": []
  }
 ],
 "metadata": {
  "kernelspec": {
   "display_name": "Python 3",
   "language": "python",
   "name": "python3"
  },
  "language_info": {
   "codemirror_mode": {
    "name": "ipython",
    "version": 3
   },
   "file_extension": ".py",
   "mimetype": "text/x-python",
   "name": "python",
   "nbconvert_exporter": "python",
   "pygments_lexer": "ipython3",
   "version": "3.8.8"
  }
 },
 "nbformat": 4,
 "nbformat_minor": 5
}
